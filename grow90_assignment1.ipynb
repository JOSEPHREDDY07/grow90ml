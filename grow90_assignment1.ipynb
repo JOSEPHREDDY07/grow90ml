{
  "nbformat": 4,
  "nbformat_minor": 0,
  "metadata": {
    "colab": {
      "name": "grow90_assignment1.ipynb",
      "provenance": [],
      "private_outputs": true,
      "collapsed_sections": [],
      "authorship_tag": "ABX9TyOZikBAGw8TXWVB7KiKWOM6",
      "include_colab_link": true
    },
    "kernelspec": {
      "name": "python3",
      "display_name": "Python 3"
    }
  },
  "cells": [
    {
      "cell_type": "markdown",
      "metadata": {
        "id": "view-in-github",
        "colab_type": "text"
      },
      "source": [
        "<a href=\"https://colab.research.google.com/github/JOSEPHREDDY07/grow90ml/blob/master/grow90_assignment1.ipynb\" target=\"_parent\"><img src=\"https://colab.research.google.com/assets/colab-badge.svg\" alt=\"Open In Colab\"/></a>"
      ]
    },
    {
      "cell_type": "code",
      "metadata": {
        "id": "154byAzpDlXN",
        "colab_type": "code",
        "colab": {}
      },
      "source": [
        ""
      ],
      "execution_count": 0,
      "outputs": []
    },
    {
      "cell_type": "markdown",
      "metadata": {
        "id": "M1fX2sBHDxoB",
        "colab_type": "text"
      },
      "source": [
        "#grow 90 assignment **1**"
      ]
    },
    {
      "cell_type": "markdown",
      "metadata": {
        "id": "Q3zKEjQWDvh5",
        "colab_type": "text"
      },
      "source": [
        "a. Write a program that does the following:\n",
        "1. Asks the user to enter their name\n",
        "2. Asks the user to enter their age as a integer\n",
        "3. Tells them whether or not they are eligible to apply for a driver’s license (Assume, the\n",
        "minimum age in India is 18)."
      ]
    },
    {
      "cell_type": "code",
      "metadata": {
        "id": "RFo2n-ZVDuGQ",
        "colab_type": "code",
        "colab": {}
      },
      "source": [
        "name = input(\"Please enter your name:\\n\")\n",
        "age = int(input(\"Please enter age:\\n\"))\n",
        "\n",
        "def drl(name,age):\n",
        "  if age >= 18:\n",
        "    print(f\"Hi {name} , you are eligible for Driving licence\")\n",
        "  else:\n",
        "    print(f'Hi {name} , you are not eligible for Driving licence')\n",
        "drl(name,age)"
      ],
      "execution_count": 0,
      "outputs": []
    },
    {
      "cell_type": "markdown",
      "metadata": {
        "id": "FrmCMn8p0y-b",
        "colab_type": "text"
      },
      "source": [
        "b.Write a program to print the n rows of Pascal's triangle.\n",
        "Hint: n=6 should print 1\n",
        "11\n",
        "121\n",
        "1331 14641\n",
        "1 5 10 10 5 1"
      ]
    },
    {
      "cell_type": "code",
      "metadata": {
        "id": "iUAWML4r00Nf",
        "colab_type": "code",
        "colab": {}
      },
      "source": [
        "# Function to print first n lines of Pascal's Triangle \n",
        "n = int(input(\"Please enter n value:\\n\"))\n",
        "\n",
        "def binomialCoeff(n, k) : \n",
        "    res = 1\n",
        "    if (k > n - k) : \n",
        "        k = n - k \n",
        "    for i in range(0 , k) : \n",
        "        res = res * (n - i) \n",
        "        res = res // (i + 1) \n",
        "      \n",
        "    return res \n",
        "\n",
        "def printPascal(n) : \n",
        "      \n",
        "    # Iterate through every line  \n",
        "    # and print entries in it \n",
        "    for line in range(0, n) : \n",
        "          \n",
        "        # Every line has number of  \n",
        "        # integers equal to line \n",
        "        # number \n",
        "        for i in range(0, line + 1) : \n",
        "            print(binomialCoeff(line, i), \" \", end = \"\") \n",
        "        print() \n",
        "\n",
        "printPascal(n)"
      ],
      "execution_count": 0,
      "outputs": []
    },
    {
      "cell_type": "code",
      "metadata": {
        "id": "jvIMbo951I6w",
        "colab_type": "code",
        "colab": {}
      },
      "source": [
        ""
      ],
      "execution_count": 0,
      "outputs": []
    },
    {
      "cell_type": "markdown",
      "metadata": {
        "id": "bVWY-F4Q1OBr",
        "colab_type": "text"
      },
      "source": [
        "c. Writeaprogramtoprintthefactorialofagivennumber.\n"
      ]
    },
    {
      "cell_type": "code",
      "metadata": {
        "id": "dEul4OMm1QNN",
        "colab_type": "code",
        "colab": {}
      },
      "source": [
        "number = int(input(\"Please enter number:\\n\"))\n",
        "\n",
        "def fact(number):\n",
        "  mul = 1\n",
        "  for i in range(number):\n",
        "    mul = mul * (i+1)\n",
        "  return mul\n",
        "\n",
        "print(f'factorial of {number} is : ',  fact(number))\n",
        "\n"
      ],
      "execution_count": 0,
      "outputs": []
    },
    {
      "cell_type": "markdown",
      "metadata": {
        "id": "qXW76CIX1RBr",
        "colab_type": "text"
      },
      "source": [
        "d. Write a program to check if the string is a palindrome or not.\n",
        "1. If yes, then replace each vowel with next vowel and print both the input string and output string. (Hint: Consider a, e, i, o, u in cyclic order)\n",
        "2. Ifnotthenreversetheinputstringandprintboththeinputandoutputstring."
      ]
    },
    {
      "cell_type": "code",
      "metadata": {
        "id": "DBE0vunf1VN1",
        "colab_type": "code",
        "colab": {}
      },
      "source": [
        "word = input(\"Please enter any word:\\n\")\n",
        "word = word.lower()\n",
        "l = len(word)\n",
        "vowels = ['a','e','i','o','u']\n",
        "def palindrome(word):\n",
        "  op = ''\n",
        "  revword = (word[::-1])\n",
        "  if (revword == word):\n",
        "    return True\n",
        "  else:\n",
        "    return False\n",
        "\n",
        "ind = palindrome(word)\n",
        "if (ind):\n",
        "  z = 0\n",
        "  print(f'yes the {word} is polindrome')\n",
        "  for i  in range(1,l):\n",
        "    if (word[i] == 'a' or word[i] == 'e' or word[i] == 'i' or word[i] == 'o' or word[i] == 'u') :\n",
        "       z = z + 1\n",
        "  print(\"vowels matched:\",  str(z))   \n",
        "else:\n",
        "   print(f'no the {word} is not polindrome, reverse word is ', word[::-1])"
      ],
      "execution_count": 0,
      "outputs": []
    },
    {
      "cell_type": "markdown",
      "metadata": {
        "id": "tEY0Af4j1VlM",
        "colab_type": "text"
      },
      "source": [
        "e. Write a program to return the N largest elements of an array. Array elements(floats) are given in input string. Output elements are printed in descending order.\n",
        "Hint:\n",
        "Enter your numbers:\n",
        "> 1.0 5.1 45.9 6.2 11.5 2.2 15.6 18.4 20.0 100.5 4.6 Enter how many largest numbers to print:\n",
        ">2\n",
        "100.5 45.9\n"
      ]
    },
    {
      "cell_type": "code",
      "metadata": {
        "id": "8PLheeWx1oY2",
        "colab_type": "code",
        "colab": {}
      },
      "source": [
        "input_string = (input(\"enter the list of numbers with space: \"))\n",
        "n = int((input(\"enter how many largest numbers to print: \")))\n",
        "lst = input_string.split()\n",
        "print(\"user list is \", lst)\n",
        "\n",
        "def nlarge(lst,n):\n",
        "    max = 0\n",
        "    lst.sort(reverse = True) \n",
        "    print(\"sotrted list is \", lst)\n",
        "    list2 = []\n",
        "    for i in range(n):\n",
        "        max = lst[i]\n",
        "        list2.append(max)\n",
        "    return list2\n",
        "a = nlarge(lst,n)\n",
        "print(a)\n",
        "print(f\"the largest {n} values in given list:\", a)\n"
      ],
      "execution_count": 0,
      "outputs": []
    },
    {
      "cell_type": "markdown",
      "metadata": {
        "id": "1NfWTFr71pIx",
        "colab_type": "text"
      },
      "source": [
        "f. Write a program to get the least common multiple (LCM) of given 2 positive integers.\n"
      ]
    },
    {
      "cell_type": "code",
      "metadata": {
        "id": "wbESgKxT1ryf",
        "colab_type": "code",
        "colab": {}
      },
      "source": [
        "x = int((input(\"enter first no to get LCM: \")))\n",
        "y = int((input(\"enter second number to get LCM: \")))\n",
        "def lcm(x, y):\n",
        "   # choose the greater number\n",
        "   if x > y:\n",
        "       greater = x\n",
        "   else:\n",
        "       greater = y\n",
        "\n",
        "   while(True):\n",
        "       if((greater % x == 0) and (greater % y == 0)):\n",
        "           lcm = greater\n",
        "           break\n",
        "       greater += 1\n",
        "\n",
        "   return lcm\n",
        "\n",
        "print(\"The L.C.M. is\", lcm(x,y))"
      ],
      "execution_count": 0,
      "outputs": []
    }
  ]
}